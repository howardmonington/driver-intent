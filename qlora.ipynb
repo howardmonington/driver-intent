{
 "cells": [
  {
   "cell_type": "code",
   "execution_count": 1,
   "id": "1ca8a8e7-082f-4ad6-8fa9-5659c885c2f1",
   "metadata": {},
   "outputs": [],
   "source": [
    "import pandas as pd\n",
    "import torch\n",
    "from transformers import BertTokenizer, BertForSequenceClassification\n",
    "from datasets import DatasetDict, Dataset, load_from_disk\n",
    "from sklearn.model_selection import train_test_split\n",
    "from transformers import BertForSequenceClassification, Trainer, TrainingArguments\n",
    "from sklearn.metrics import accuracy_score\n",
    "\n",
    "from sklearn.preprocessing import LabelEncoder\n",
    "from transformers import BitsAndBytesConfig\n",
    "from accelerate import Accelerator\n",
    "from peft import prepare_model_for_kbit_training, LoraConfig, TaskType, get_peft_model\n",
    "from transformers import AutoModelForSequenceClassification"
   ]
  },
  {
   "cell_type": "code",
   "execution_count": 2,
   "id": "03cdebd2-0319-4e7a-bef7-f80d2c3c4e85",
   "metadata": {},
   "outputs": [],
   "source": [
    "# this thing says I should use peft_model_for_sequence_classification:\n",
    "#https://huggingface.co/docs/peft/package_reference/peft_model"
   ]
  },
  {
   "cell_type": "code",
   "execution_count": null,
   "id": "2fe6e585-13b0-498a-8e87-d9ba0e5cac37",
   "metadata": {},
   "outputs": [],
   "source": []
  },
  {
   "cell_type": "code",
   "execution_count": null,
   "id": "8eaa447a-c7c0-4502-af69-96bc67199a0f",
   "metadata": {},
   "outputs": [],
   "source": []
  },
  {
   "cell_type": "code",
   "execution_count": 3,
   "id": "897177b6-1d67-4f28-a549-48bb15d54e5d",
   "metadata": {},
   "outputs": [],
   "source": [
    "path_to_retrieve = \"../tokenized_dataset\"\n"
   ]
  },
  {
   "cell_type": "code",
   "execution_count": 4,
   "id": "604af393-7fa0-4411-82bd-94d227dfb3b0",
   "metadata": {},
   "outputs": [],
   "source": [
    "dataset_dict = load_from_disk(path_to_retrieve)"
   ]
  },
  {
   "cell_type": "code",
   "execution_count": null,
   "id": "3cf30437-e107-430f-b08f-6e32057807a0",
   "metadata": {},
   "outputs": [],
   "source": [
    "\n"
   ]
  },
  {
   "cell_type": "code",
   "execution_count": 5,
   "id": "aadda10d-6e15-4b6c-9bf7-f016770bb375",
   "metadata": {},
   "outputs": [],
   "source": [
    "bnb_config = BitsAndBytesConfig(\n",
    "    load_in_4bit=True,\n",
    "    bnb_4bit_use_double_quant=False,\n",
    "    bnb_4bit_quant_type='nf4',\n",
    "    bnb_4bit_compute_dtype=torch.bfloat16\n",
    ")"
   ]
  },
  {
   "cell_type": "code",
   "execution_count": 6,
   "id": "7f3b5117-f8bf-433e-82ce-a54978711475",
   "metadata": {},
   "outputs": [],
   "source": [
    "def print_trainable_parameters(model):\n",
    "    \"\"\"\n",
    "    Prints the number of trainable parameters in the model.\n",
    "    \"\"\"\n",
    "    trainable_params = 0\n",
    "    all_param = 0\n",
    "    for _, param in model.named_parameters():\n",
    "        all_param += param.numel()\n",
    "        if param.requires_grad:\n",
    "            trainable_params += param.numel()\n",
    "    print(\n",
    "        f\"trainable params: {trainable_params} || all params: {all_param} || trainable%: {100 * trainable_params / all_param}\"\n",
    "    )"
   ]
  },
  {
   "cell_type": "code",
   "execution_count": 7,
   "id": "f2775642-aa2a-456d-8c07-a8a232d4ec57",
   "metadata": {},
   "outputs": [],
   "source": [
    "model_name = \"bert-base-uncased\""
   ]
  },
  {
   "cell_type": "code",
   "execution_count": 8,
   "id": "74c85350-4b2b-49da-a42c-09a712e59c52",
   "metadata": {},
   "outputs": [
    {
     "name": "stderr",
     "output_type": "stream",
     "text": [
      "Some weights of BertForSequenceClassification were not initialized from the model checkpoint at bert-base-uncased and are newly initialized: ['classifier.weight', 'classifier.bias']\n",
      "You should probably TRAIN this model on a down-stream task to be able to use it for predictions and inference.\n"
     ]
    }
   ],
   "source": [
    "model = AutoModelForSequenceClassification.from_pretrained(model_name, num_labels=5, device_map={\"\":0})\n",
    "#model.gradient_checkpointing_enable()\n"
   ]
  },
  {
   "cell_type": "code",
   "execution_count": 9,
   "id": "0962be57-913d-4705-a50f-2b6730e6ddba",
   "metadata": {},
   "outputs": [
    {
     "name": "stdout",
     "output_type": "stream",
     "text": [
      "trainable params: 109486085 || all params: 109486085 || trainable%: 100.0\n"
     ]
    }
   ],
   "source": [
    "print_trainable_parameters(model)"
   ]
  },
  {
   "cell_type": "code",
   "execution_count": 10,
   "id": "dce2cb0b-5496-4197-a773-509ebc8136c3",
   "metadata": {},
   "outputs": [],
   "source": [
    "from peft import PeftModelForSequenceClassification, get_peft_config\n"
   ]
  },
  {
   "cell_type": "code",
   "execution_count": 11,
   "id": "07efbf99-0f3a-4113-832e-5ab97a6223fd",
   "metadata": {},
   "outputs": [],
   "source": [
    "config = {\n",
    "    \"peft_type\": \"PREFIX_TUNING\",\n",
    "    \"task_type\": \"SEQ_CLS\",\n",
    "    \"inference_mode\": False,\n",
    "    \"num_virtual_tokens\": 20,\n",
    "    \"token_dim\": 768,\n",
    "    \"num_transformer_submodules\": 1,\n",
    "    \"num_attention_heads\": 12,\n",
    "    \"num_layers\": 12,\n",
    "    \"encoder_hidden_size\": 768,\n",
    "    \"prefix_projection\": False,\n",
    "    #\"postprocess_past_key_value_function\": None,\n",
    "}"
   ]
  },
  {
   "cell_type": "code",
   "execution_count": 12,
   "id": "5b67dd3d-893a-4131-9d08-5498262ab25c",
   "metadata": {},
   "outputs": [],
   "source": [
    "peft_config = get_peft_config(config)\n"
   ]
  },
  {
   "cell_type": "code",
   "execution_count": 13,
   "id": "239bfcab-a8d6-4c7b-a0c7-1884070c8082",
   "metadata": {},
   "outputs": [
    {
     "name": "stderr",
     "output_type": "stream",
     "text": [
      "Some weights of BertForSequenceClassification were not initialized from the model checkpoint at bert-base-cased and are newly initialized: ['classifier.weight', 'classifier.bias']\n",
      "You should probably TRAIN this model on a down-stream task to be able to use it for predictions and inference.\n"
     ]
    }
   ],
   "source": [
    "model = AutoModelForSequenceClassification.from_pretrained(\"bert-base-cased\")\n"
   ]
  },
  {
   "cell_type": "code",
   "execution_count": 14,
   "id": "ff5aca1d-f161-4956-ad4a-23e90b660ead",
   "metadata": {},
   "outputs": [],
   "source": [
    "peft_model = PeftModelForSequenceClassification(model, peft_config)\n"
   ]
  },
  {
   "cell_type": "code",
   "execution_count": 15,
   "id": "32f1ab69-c411-41be-aada-049ee415f6e2",
   "metadata": {},
   "outputs": [
    {
     "name": "stdout",
     "output_type": "stream",
     "text": [
      "trainable params: 371,716 || all params: 108,681,988 || trainable%: 0.34202171568668766\n"
     ]
    }
   ],
   "source": [
    "peft_model.print_trainable_parameters()\n"
   ]
  },
  {
   "cell_type": "code",
   "execution_count": null,
   "id": "ac6bf2fb-2970-4a99-ac70-d7aae3638cac",
   "metadata": {},
   "outputs": [],
   "source": []
  },
  {
   "cell_type": "code",
   "execution_count": 9,
   "id": "78b145e3-1c74-4222-8127-3016a36cd142",
   "metadata": {},
   "outputs": [],
   "source": [
    "#model.gradient_checkpointing_enable()\n",
    "\n",
    "model = prepare_model_for_kbit_training(model, use_gradient_checkpointing=True)"
   ]
  },
  {
   "cell_type": "markdown",
   "id": "3a7016fc-1acc-4308-9813-d090978d12c5",
   "metadata": {},
   "source": []
  },
  {
   "cell_type": "code",
   "execution_count": 10,
   "id": "5b2ffb8d-a51a-42bb-b2f6-e752817e3ad3",
   "metadata": {},
   "outputs": [],
   "source": [
    "target_modules = [\n",
    "\n",
    "    \"bert.encoder.layer.{}.attention.self.query\".format(i) for i in range(12)\n",
    "] + [\n",
    "    \"bert.encoder.layer.{}.attention.self.key\".format(i) for i in range(12)\n",
    "] + [\n",
    "    \"bert.encoder.layer.{}.attention.self.value\".format(i) for i in range(12)\n",
    "]"
   ]
  },
  {
   "cell_type": "code",
   "execution_count": 11,
   "id": "e1fa9f97-f070-413f-a897-c17f72432c8a",
   "metadata": {},
   "outputs": [],
   "source": [
    "\n",
    "peft_config = LoraConfig(\n",
    "    r=8, \n",
    "    lora_alpha=32, \n",
    "    target_modules=target_modules,\n",
    "    lora_dropout=0.05, \n",
    "    bias=\"none\", \n",
    "    task_type=\"SEQ2SEQ_LM\"\n",
    ")"
   ]
  },
  {
   "cell_type": "code",
   "execution_count": 12,
   "id": "49dbf9d2-6df8-4d3f-8027-3e7a956ac37b",
   "metadata": {},
   "outputs": [],
   "source": [
    "model = get_peft_model(model, peft_config)"
   ]
  },
  {
   "cell_type": "code",
   "execution_count": 13,
   "id": "7a093705-b48c-4cad-b1bb-43a4734f3958",
   "metadata": {},
   "outputs": [
    {
     "name": "stdout",
     "output_type": "stream",
     "text": [
      "trainable params: 442368 || all params: 109928453 || trainable%: 0.4024144686180565\n"
     ]
    }
   ],
   "source": [
    "#model = get_peft_model(model, peft_config)\n",
    "print_trainable_parameters(model)"
   ]
  },
  {
   "cell_type": "code",
   "execution_count": 16,
   "id": "ff8888c0-9374-45cc-a9a2-aecc04f545bf",
   "metadata": {},
   "outputs": [],
   "source": [
    "def compute_metrics(p):\n",
    "    logits, labels = p.predictions, p.label_ids\n",
    "    preds = logits.argmax(axis=-1)\n",
    "    acc = accuracy_score(labels, preds)\n",
    "    return {\"accuracy\": acc}"
   ]
  },
  {
   "cell_type": "code",
   "execution_count": 17,
   "id": "a45bf974-0a6f-48c7-add5-4a96d34f6e39",
   "metadata": {},
   "outputs": [],
   "source": [
    "training_args = TrainingArguments(\n",
    "    per_device_train_batch_size=8,\n",
    "    per_device_eval_batch_size=8,\n",
    "    output_dir='/results',\n",
    "    num_train_epochs=1,\n",
    "    evaluation_strategy=\"steps\",\n",
    "    save_steps=10,\n",
    "    save_total_limit=2,\n",
    "    remove_unused_columns=False,\n",
    "    run_name='run_name',\n",
    "    logging_dir='/logs',\n",
    "    logging_steps=10,\n",
    "    load_best_model_at_end=True,\n",
    ")"
   ]
  },
  {
   "cell_type": "code",
   "execution_count": 18,
   "id": "aa6d76e2-1681-440d-b2aa-38569d3a1225",
   "metadata": {},
   "outputs": [],
   "source": [
    "trainer = Trainer(\n",
    "    model=model,\n",
    "    args=training_args,\n",
    "    train_dataset=dataset_dict[\"train\"],\n",
    "    eval_dataset=dataset_dict[\"test\"],\n",
    "    compute_metrics=compute_metrics, \n",
    ")"
   ]
  },
  {
   "cell_type": "code",
   "execution_count": 19,
   "id": "8349a52d-83c1-4f0e-bf02-7c2763237565",
   "metadata": {},
   "outputs": [
    {
     "name": "stderr",
     "output_type": "stream",
     "text": [
      "\u001b[34m\u001b[1mwandb\u001b[0m: Currently logged in as: \u001b[33mlukemonington3\u001b[0m. Use \u001b[1m`wandb login --relogin`\u001b[0m to force relogin\n"
     ]
    },
    {
     "data": {
      "text/html": [
       "Tracking run with wandb version 0.15.11"
      ],
      "text/plain": [
       "<IPython.core.display.HTML object>"
      ]
     },
     "metadata": {},
     "output_type": "display_data"
    },
    {
     "data": {
      "text/html": [
       "Run data is saved locally in <code>/workspace/notebooks/driver-intent/wandb/run-20230928_005124-zeubj5uy</code>"
      ],
      "text/plain": [
       "<IPython.core.display.HTML object>"
      ]
     },
     "metadata": {},
     "output_type": "display_data"
    },
    {
     "data": {
      "text/html": [
       "Syncing run <strong><a href='https://wandb.ai/lukemonington3/huggingface/runs/zeubj5uy' target=\"_blank\">run_name</a></strong> to <a href='https://wandb.ai/lukemonington3/huggingface' target=\"_blank\">Weights & Biases</a> (<a href='https://wandb.me/run' target=\"_blank\">docs</a>)<br/>"
      ],
      "text/plain": [
       "<IPython.core.display.HTML object>"
      ]
     },
     "metadata": {},
     "output_type": "display_data"
    },
    {
     "data": {
      "text/html": [
       " View project at <a href='https://wandb.ai/lukemonington3/huggingface' target=\"_blank\">https://wandb.ai/lukemonington3/huggingface</a>"
      ],
      "text/plain": [
       "<IPython.core.display.HTML object>"
      ]
     },
     "metadata": {},
     "output_type": "display_data"
    },
    {
     "data": {
      "text/html": [
       " View run at <a href='https://wandb.ai/lukemonington3/huggingface/runs/zeubj5uy' target=\"_blank\">https://wandb.ai/lukemonington3/huggingface/runs/zeubj5uy</a>"
      ],
      "text/plain": [
       "<IPython.core.display.HTML object>"
      ]
     },
     "metadata": {},
     "output_type": "display_data"
    },
    {
     "name": "stderr",
     "output_type": "stream",
     "text": [
      "../aten/src/ATen/native/cuda/Loss.cu:240: nll_loss_forward_reduce_cuda_kernel_2d: block: [0,0,0], thread: [1,0,0] Assertion `t >= 0 && t < n_classes` failed.\n",
      "../aten/src/ATen/native/cuda/Loss.cu:240: nll_loss_forward_reduce_cuda_kernel_2d: block: [0,0,0], thread: [2,0,0] Assertion `t >= 0 && t < n_classes` failed.\n",
      "../aten/src/ATen/native/cuda/Loss.cu:240: nll_loss_forward_reduce_cuda_kernel_2d: block: [0,0,0], thread: [6,0,0] Assertion `t >= 0 && t < n_classes` failed.\n",
      "../aten/src/ATen/native/cuda/Loss.cu:240: nll_loss_forward_reduce_cuda_kernel_2d: block: [0,0,0], thread: [7,0,0] Assertion `t >= 0 && t < n_classes` failed.\n"
     ]
    },
    {
     "ename": "RuntimeError",
     "evalue": "CUDA error: device-side assert triggered\nCUDA kernel errors might be asynchronously reported at some other API call, so the stacktrace below might be incorrect.\nFor debugging consider passing CUDA_LAUNCH_BLOCKING=1.\nCompile with `TORCH_USE_CUDA_DSA` to enable device-side assertions.\n",
     "output_type": "error",
     "traceback": [
      "\u001b[0;31m---------------------------------------------------------------------------\u001b[0m",
      "\u001b[0;31mRuntimeError\u001b[0m                              Traceback (most recent call last)",
      "Cell \u001b[0;32mIn[19], line 1\u001b[0m\n\u001b[0;32m----> 1\u001b[0m \u001b[43mtrainer\u001b[49m\u001b[38;5;241;43m.\u001b[39;49m\u001b[43mtrain\u001b[49m\u001b[43m(\u001b[49m\u001b[43m)\u001b[49m\n",
      "File \u001b[0;32m/usr/local/lib/python3.10/dist-packages/transformers/trainer.py:1556\u001b[0m, in \u001b[0;36mTrainer.train\u001b[0;34m(self, resume_from_checkpoint, trial, ignore_keys_for_eval, **kwargs)\u001b[0m\n\u001b[1;32m   1554\u001b[0m         hf_hub_utils\u001b[38;5;241m.\u001b[39menable_progress_bars()\n\u001b[1;32m   1555\u001b[0m \u001b[38;5;28;01melse\u001b[39;00m:\n\u001b[0;32m-> 1556\u001b[0m     \u001b[38;5;28;01mreturn\u001b[39;00m \u001b[43minner_training_loop\u001b[49m\u001b[43m(\u001b[49m\n\u001b[1;32m   1557\u001b[0m \u001b[43m        \u001b[49m\u001b[43margs\u001b[49m\u001b[38;5;241;43m=\u001b[39;49m\u001b[43margs\u001b[49m\u001b[43m,\u001b[49m\n\u001b[1;32m   1558\u001b[0m \u001b[43m        \u001b[49m\u001b[43mresume_from_checkpoint\u001b[49m\u001b[38;5;241;43m=\u001b[39;49m\u001b[43mresume_from_checkpoint\u001b[49m\u001b[43m,\u001b[49m\n\u001b[1;32m   1559\u001b[0m \u001b[43m        \u001b[49m\u001b[43mtrial\u001b[49m\u001b[38;5;241;43m=\u001b[39;49m\u001b[43mtrial\u001b[49m\u001b[43m,\u001b[49m\n\u001b[1;32m   1560\u001b[0m \u001b[43m        \u001b[49m\u001b[43mignore_keys_for_eval\u001b[49m\u001b[38;5;241;43m=\u001b[39;49m\u001b[43mignore_keys_for_eval\u001b[49m\u001b[43m,\u001b[49m\n\u001b[1;32m   1561\u001b[0m \u001b[43m    \u001b[49m\u001b[43m)\u001b[49m\n",
      "File \u001b[0;32m/usr/local/lib/python3.10/dist-packages/transformers/trainer.py:1840\u001b[0m, in \u001b[0;36mTrainer._inner_training_loop\u001b[0;34m(self, batch_size, args, resume_from_checkpoint, trial, ignore_keys_for_eval)\u001b[0m\n\u001b[1;32m   1837\u001b[0m \u001b[38;5;28;01mwith\u001b[39;00m \u001b[38;5;28mself\u001b[39m\u001b[38;5;241m.\u001b[39maccelerator\u001b[38;5;241m.\u001b[39maccumulate(model):\n\u001b[1;32m   1838\u001b[0m     tr_loss_step \u001b[38;5;241m=\u001b[39m \u001b[38;5;28mself\u001b[39m\u001b[38;5;241m.\u001b[39mtraining_step(model, inputs)\n\u001b[0;32m-> 1840\u001b[0m \u001b[38;5;28;01mif\u001b[39;00m (\n\u001b[1;32m   1841\u001b[0m     args\u001b[38;5;241m.\u001b[39mlogging_nan_inf_filter\n\u001b[1;32m   1842\u001b[0m     \u001b[38;5;129;01mand\u001b[39;00m \u001b[38;5;129;01mnot\u001b[39;00m is_torch_tpu_available()\n\u001b[1;32m   1843\u001b[0m     \u001b[38;5;129;01mand\u001b[39;00m (torch\u001b[38;5;241m.\u001b[39misnan(tr_loss_step) \u001b[38;5;129;01mor\u001b[39;00m torch\u001b[38;5;241m.\u001b[39misinf(tr_loss_step))\n\u001b[1;32m   1844\u001b[0m ):\n\u001b[1;32m   1845\u001b[0m     \u001b[38;5;66;03m# if loss is nan or inf simply add the average of previous logged losses\u001b[39;00m\n\u001b[1;32m   1846\u001b[0m     tr_loss \u001b[38;5;241m+\u001b[39m\u001b[38;5;241m=\u001b[39m tr_loss \u001b[38;5;241m/\u001b[39m (\u001b[38;5;241m1\u001b[39m \u001b[38;5;241m+\u001b[39m \u001b[38;5;28mself\u001b[39m\u001b[38;5;241m.\u001b[39mstate\u001b[38;5;241m.\u001b[39mglobal_step \u001b[38;5;241m-\u001b[39m \u001b[38;5;28mself\u001b[39m\u001b[38;5;241m.\u001b[39m_globalstep_last_logged)\n\u001b[1;32m   1847\u001b[0m \u001b[38;5;28;01melse\u001b[39;00m:\n",
      "\u001b[0;31mRuntimeError\u001b[0m: CUDA error: device-side assert triggered\nCUDA kernel errors might be asynchronously reported at some other API call, so the stacktrace below might be incorrect.\nFor debugging consider passing CUDA_LAUNCH_BLOCKING=1.\nCompile with `TORCH_USE_CUDA_DSA` to enable device-side assertions.\n"
     ]
    },
    {
     "name": "stderr",
     "output_type": "stream",
     "text": [
      "wandb: Network error (ReadTimeout), entering retry loop.\n"
     ]
    }
   ],
   "source": [
    "trainer.train()\n"
   ]
  },
  {
   "cell_type": "code",
   "execution_count": 16,
   "id": "bb4828a8-0a9e-4d18-92a2-916ed516944a",
   "metadata": {},
   "outputs": [
    {
     "name": "stdout",
     "output_type": "stream",
     "text": [
      "absl-py==2.0.0\n",
      "accelerate==0.23.0\n",
      "aiohttp==3.8.5\n",
      "aiosignal==1.3.1\n",
      "anyio==4.0.0\n",
      "appdirs==1.4.4\n",
      "argon2-cffi==23.1.0\n",
      "argon2-cffi-bindings==21.2.0\n",
      "arrow==1.2.3\n",
      "asttokens==2.4.0\n",
      "async-lru==2.0.4\n",
      "async-timeout==4.0.3\n",
      "attrs==23.1.0\n",
      "Babel==2.12.1\n",
      "backcall==0.2.0\n",
      "beautifulsoup4==4.12.2\n",
      "bitsandbytes==0.41.1\n",
      "bleach==6.0.0\n",
      "blinker==1.4\n",
      "cachetools==5.3.1\n",
      "certifi==2023.7.22\n",
      "cffi==1.15.1\n",
      "charset-normalizer==3.2.0\n",
      "click==8.1.7\n",
      "cmake==3.27.5\n",
      "comm==0.1.4\n",
      "contourpy==1.1.1\n",
      "cryptography==3.4.8\n",
      "cycler==0.11.0\n",
      "datasets==2.14.5\n",
      "dbus-python==1.2.18\n",
      "debugpy==1.8.0\n",
      "decorator==5.1.1\n",
      "deepspeed==0.10.3\n",
      "defusedxml==0.7.1\n",
      "dill==0.3.7\n",
      "distro==1.7.0\n",
      "distro-info==1.1+ubuntu0.1\n",
      "docker-pycreds==0.4.0\n",
      "evaluate==0.4.0\n",
      "exceptiongroup==1.1.3\n",
      "executing==1.2.0\n",
      "fastjsonschema==2.18.0\n",
      "filelock==3.12.4\n",
      "fonttools==4.42.1\n",
      "fqdn==1.5.1\n",
      "frozenlist==1.4.0\n",
      "fsspec==2023.6.0\n",
      "gitdb==4.0.10\n",
      "GitPython==3.1.37\n",
      "glob2==0.7\n",
      "google-auth==2.23.1\n",
      "google-auth-oauthlib==1.0.0\n",
      "grpcio==1.58.0\n",
      "hjson==3.1.0\n",
      "httplib2==0.20.2\n",
      "huggingface-hub==0.17.3\n",
      "idna==3.4\n",
      "importlib-metadata==4.6.4\n",
      "ipykernel==6.25.2\n",
      "ipython==8.15.0\n",
      "ipython-genutils==0.2.0\n",
      "ipywidgets==8.1.1\n",
      "isoduration==20.11.0\n",
      "jedi==0.19.0\n",
      "jeepney==0.7.1\n",
      "Jinja2==3.1.2\n",
      "joblib==1.3.2\n",
      "json5==0.9.14\n",
      "jsonpointer==2.4\n",
      "jsonschema==4.19.1\n",
      "jsonschema-specifications==2023.7.1\n",
      "jupyter==1.0.0\n",
      "jupyter-console==6.6.3\n",
      "jupyter-events==0.7.0\n",
      "jupyter-lsp==2.2.0\n",
      "jupyter_client==8.3.1\n",
      "jupyter_core==5.3.2\n",
      "jupyter_server==2.7.3\n",
      "jupyter_server_terminals==0.4.4\n",
      "jupyterlab==4.0.6\n",
      "jupyterlab-pygments==0.2.2\n",
      "jupyterlab-widgets==3.0.9\n",
      "jupyterlab_server==2.25.0\n",
      "keyring==23.5.0\n",
      "kiwisolver==1.4.5\n",
      "launchpadlib==1.10.16\n",
      "lazr.restfulclient==0.14.4\n",
      "lazr.uri==1.0.6\n",
      "lightning-utilities==0.9.0\n",
      "lit==17.0.1\n",
      "Markdown==3.4.4\n",
      "MarkupSafe==2.1.3\n",
      "matplotlib==3.8.0\n",
      "matplotlib-inline==0.1.6\n",
      "mistune==3.0.1\n",
      "more-itertools==8.10.0\n",
      "mpi4py==3.1.4\n",
      "mpmath==1.3.0\n",
      "multidict==6.0.4\n",
      "multiprocess==0.70.15\n",
      "nbclient==0.8.0\n",
      "nbconvert==7.8.0\n",
      "nbformat==5.9.2\n",
      "nest-asyncio==1.5.8\n",
      "networkx==3.1\n",
      "ninja==1.11.1\n",
      "nltk==3.8.1\n",
      "notebook==7.0.4\n",
      "notebook_shim==0.2.3\n",
      "numpy==1.26.0\n",
      "nvidia-cublas-cu11==11.10.3.66\n",
      "nvidia-cuda-cupti-cu11==11.7.101\n",
      "nvidia-cuda-nvrtc-cu11==11.7.99\n",
      "nvidia-cuda-runtime-cu11==11.7.99\n",
      "nvidia-cudnn-cu11==8.5.0.96\n",
      "nvidia-cufft-cu11==10.9.0.58\n",
      "nvidia-curand-cu11==10.2.10.91\n",
      "nvidia-cusolver-cu11==11.4.0.1\n",
      "nvidia-cusparse-cu11==11.7.4.91\n",
      "nvidia-nccl-cu11==2.14.3\n",
      "nvidia-nvtx-cu11==11.7.91\n",
      "oauthlib==3.2.0\n",
      "overrides==7.4.0\n",
      "packaging==23.1\n",
      "pandas==2.1.1\n",
      "pandocfilters==1.5.0\n",
      "parso==0.8.3\n",
      "pathtools==0.1.2\n",
      "peft==0.5.0\n",
      "pexpect==4.8.0\n",
      "pickleshare==0.7.5\n",
      "Pillow==10.0.1\n",
      "platformdirs==3.10.0\n",
      "prometheus-client==0.17.1\n",
      "prompt-toolkit==3.0.39\n",
      "protobuf==4.24.3\n",
      "psutil==5.9.5\n",
      "ptyprocess==0.7.0\n",
      "pure-eval==0.2.2\n",
      "py-cpuinfo==9.0.0\n",
      "pyarrow==13.0.0\n",
      "pyasn1==0.5.0\n",
      "pyasn1-modules==0.3.0\n",
      "pycparser==2.21\n",
      "pydantic==1.10.13\n",
      "Pygments==2.16.1\n",
      "PyGObject==3.42.1\n",
      "PyJWT==2.3.0\n",
      "pyparsing==2.4.7\n",
      "python-apt==2.4.0+ubuntu2\n",
      "python-dateutil==2.8.2\n",
      "python-json-logger==2.0.7\n",
      "pytorch-lightning==2.0.9\n",
      "pytz==2023.3.post1\n",
      "PyYAML==6.0.1\n",
      "pyzmq==25.1.1\n",
      "qtconsole==5.4.4\n",
      "QtPy==2.4.0\n",
      "referencing==0.30.2\n",
      "regex==2023.8.8\n",
      "requests==2.31.0\n",
      "requests-oauthlib==1.3.1\n",
      "responses==0.18.0\n",
      "rfc3339-validator==0.1.4\n",
      "rfc3986-validator==0.1.1\n",
      "rpds-py==0.10.3\n",
      "rsa==4.9\n",
      "safetensors==0.3.3\n",
      "scikit-learn==1.3.1\n",
      "scipy==1.11.2\n",
      "SecretStorage==3.3.1\n",
      "Send2Trash==1.8.2\n",
      "sentencepiece==0.1.99\n",
      "sentry-sdk==1.31.0\n",
      "setproctitle==1.3.2\n",
      "six==1.16.0\n",
      "smmap==5.0.1\n",
      "sniffio==1.3.0\n",
      "soupsieve==2.5\n",
      "stack-data==0.6.2\n",
      "sympy==1.12\n",
      "tensorboard==2.14.0\n",
      "tensorboard-data-server==0.7.1\n",
      "terminado==0.17.1\n",
      "threadpoolctl==3.2.0\n",
      "tinycss2==1.2.1\n",
      "tokenizers==0.13.3\n",
      "tomli==2.0.1\n",
      "torch==2.0.1\n",
      "torchmetrics==1.2.0\n",
      "tornado==6.3.3\n",
      "tqdm==4.66.1\n",
      "traitlets==5.10.1\n",
      "transformers==4.33.3\n",
      "triton==2.0.0\n",
      "typing_extensions==4.8.0\n",
      "tzdata==2023.3\n",
      "unattended-upgrades==0.1\n",
      "uri-template==1.3.0\n",
      "urllib3==2.0.5\n",
      "wadllib==1.3.6\n",
      "wandb==0.15.11\n",
      "wcwidth==0.2.6\n",
      "webcolors==1.13\n",
      "webencodings==0.5.1\n",
      "websocket-client==1.6.3\n",
      "Werkzeug==2.3.7\n",
      "widgetsnbextension==4.0.9\n",
      "xxhash==3.3.0\n",
      "yarl==1.9.2\n",
      "zipp==1.0.0\n",
      "Note: you may need to restart the kernel to use updated packages.\n"
     ]
    }
   ],
   "source": [
    "pip freeze"
   ]
  },
  {
   "cell_type": "code",
   "execution_count": null,
   "id": "4600cba7-cb75-4740-877f-2da07edf8cda",
   "metadata": {},
   "outputs": [],
   "source": []
  }
 ],
 "metadata": {
  "kernelspec": {
   "display_name": "Python 3 (ipykernel)",
   "language": "python",
   "name": "python3"
  },
  "language_info": {
   "codemirror_mode": {
    "name": "ipython",
    "version": 3
   },
   "file_extension": ".py",
   "mimetype": "text/x-python",
   "name": "python",
   "nbconvert_exporter": "python",
   "pygments_lexer": "ipython3",
   "version": "3.10.12"
  }
 },
 "nbformat": 4,
 "nbformat_minor": 5
}
