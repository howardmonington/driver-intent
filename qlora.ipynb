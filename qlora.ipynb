{
 "cells": [
  {
   "cell_type": "code",
   "execution_count": 1,
   "id": "f5183254-e963-41f3-8ae2-0b869e040597",
   "metadata": {},
   "outputs": [],
   "source": [
    "import pandas as pd\n",
    "import torch\n",
    "from transformers import BertTokenizer, BertForSequenceClassification\n",
    "from datasets import DatasetDict, Dataset\n",
    "from sklearn.model_selection import train_test_split\n",
    "from sklearn.preprocessing import LabelEncoder"
   ]
  },
  {
   "cell_type": "code",
   "execution_count": 2,
   "id": "a1cf329a-e89b-44de-b18d-e816f6b8c259",
   "metadata": {},
   "outputs": [],
   "source": [
    "df = pd.read_csv(r'../driver-intent-classification-dataset.csv', encoding='ISO-8859-1')\n"
   ]
  },
  {
   "cell_type": "code",
   "execution_count": 3,
   "id": "caa0198b-7be4-43d1-8f1a-8cbfaa1ce5df",
   "metadata": {},
   "outputs": [
    {
     "data": {
      "text/html": [
       "<div>\n",
       "<style scoped>\n",
       "    .dataframe tbody tr th:only-of-type {\n",
       "        vertical-align: middle;\n",
       "    }\n",
       "\n",
       "    .dataframe tbody tr th {\n",
       "        vertical-align: top;\n",
       "    }\n",
       "\n",
       "    .dataframe thead th {\n",
       "        text-align: right;\n",
       "    }\n",
       "</style>\n",
       "<table border=\"1\" class=\"dataframe\">\n",
       "  <thead>\n",
       "    <tr style=\"text-align: right;\">\n",
       "      <th></th>\n",
       "      <th>Text</th>\n",
       "      <th>Intent</th>\n",
       "    </tr>\n",
       "  </thead>\n",
       "  <tbody>\n",
       "    <tr>\n",
       "      <th>0</th>\n",
       "      <td>Roll down the driver's window.</td>\n",
       "      <td>roll down the driver side window</td>\n",
       "    </tr>\n",
       "    <tr>\n",
       "      <th>1</th>\n",
       "      <td>Driver's window down.</td>\n",
       "      <td>roll down the driver side window</td>\n",
       "    </tr>\n",
       "    <tr>\n",
       "      <th>2</th>\n",
       "      <td>Can you roll down the driver's side window?</td>\n",
       "      <td>roll down the driver side window</td>\n",
       "    </tr>\n",
       "    <tr>\n",
       "      <th>3</th>\n",
       "      <td>Lower the driver's window.</td>\n",
       "      <td>roll down the driver side window</td>\n",
       "    </tr>\n",
       "    <tr>\n",
       "      <th>4</th>\n",
       "      <td>I'd like the driver's window down.</td>\n",
       "      <td>roll down the driver side window</td>\n",
       "    </tr>\n",
       "  </tbody>\n",
       "</table>\n",
       "</div>"
      ],
      "text/plain": [
       "                                          Text  \\\n",
       "0               Roll down the driver's window.   \n",
       "1                        Driver's window down.   \n",
       "2  Can you roll down the driver's side window?   \n",
       "3                   Lower the driver's window.   \n",
       "4           I'd like the driver's window down.   \n",
       "\n",
       "                             Intent  \n",
       "0  roll down the driver side window  \n",
       "1  roll down the driver side window  \n",
       "2  roll down the driver side window  \n",
       "3  roll down the driver side window  \n",
       "4  roll down the driver side window  "
      ]
     },
     "execution_count": 3,
     "metadata": {},
     "output_type": "execute_result"
    }
   ],
   "source": [
    "df.head()"
   ]
  },
  {
   "cell_type": "code",
   "execution_count": 4,
   "id": "bf0040c7-835e-4267-8667-a460a3912679",
   "metadata": {},
   "outputs": [],
   "source": [
    "# I want to remove the intent to turn on the high beams since I think this is a more critical function\n",
    "# and I want to validate that this works on non-critical functions first\n",
    "df = df[df['Intent'] != 'turn on high beams']"
   ]
  },
  {
   "cell_type": "code",
   "execution_count": 5,
   "id": "93473a84-06ae-472f-8f0a-853db38ec32b",
   "metadata": {},
   "outputs": [
    {
     "data": {
      "text/plain": [
       "array(['roll down the driver side window', 'turn on the air conditioner',\n",
       "       'roll down passenger window', 'turn on windshield wipers',\n",
       "       'no intent'], dtype=object)"
      ]
     },
     "execution_count": 5,
     "metadata": {},
     "output_type": "execute_result"
    }
   ],
   "source": [
    "df['Intent'].unique()"
   ]
  },
  {
   "cell_type": "code",
   "execution_count": 6,
   "id": "3ea01763-bdb0-4c69-add4-fb3406486a6d",
   "metadata": {},
   "outputs": [],
   "source": [
    "le = LabelEncoder()\n",
    "df['Encoded_Intent'] = le.fit_transform(df['Intent'])"
   ]
  },
  {
   "cell_type": "code",
   "execution_count": 7,
   "id": "d6b8bce0-3eb7-45d6-94d4-53c39f01a2c1",
   "metadata": {},
   "outputs": [],
   "source": [
    "train_df, val_df = train_test_split(df, stratify=df['Encoded_Intent'], test_size=0.2, random_state=42)\n"
   ]
  },
  {
   "cell_type": "code",
   "execution_count": 11,
   "id": "9d7e3f47-a393-4b38-a176-32a99d6d4550",
   "metadata": {},
   "outputs": [
    {
     "data": {
      "text/html": [
       "<div>\n",
       "<style scoped>\n",
       "    .dataframe tbody tr th:only-of-type {\n",
       "        vertical-align: middle;\n",
       "    }\n",
       "\n",
       "    .dataframe tbody tr th {\n",
       "        vertical-align: top;\n",
       "    }\n",
       "\n",
       "    .dataframe thead th {\n",
       "        text-align: right;\n",
       "    }\n",
       "</style>\n",
       "<table border=\"1\" class=\"dataframe\">\n",
       "  <thead>\n",
       "    <tr style=\"text-align: right;\">\n",
       "      <th></th>\n",
       "      <th>Text</th>\n",
       "      <th>Intent</th>\n",
       "      <th>Encoded_Intent</th>\n",
       "    </tr>\n",
       "  </thead>\n",
       "  <tbody>\n",
       "    <tr>\n",
       "      <th>431</th>\n",
       "      <td>Slide open the passenger window.</td>\n",
       "      <td>roll down passenger window</td>\n",
       "      <td>1</td>\n",
       "    </tr>\n",
       "    <tr>\n",
       "      <th>344</th>\n",
       "      <td>Initiate cold mode.</td>\n",
       "      <td>turn on the air conditioner</td>\n",
       "      <td>3</td>\n",
       "    </tr>\n",
       "    <tr>\n",
       "      <th>393</th>\n",
       "      <td>Bring on the chill zone.</td>\n",
       "      <td>turn on the air conditioner</td>\n",
       "      <td>3</td>\n",
       "    </tr>\n",
       "    <tr>\n",
       "      <th>912</th>\n",
       "      <td>Turn on those wipers.</td>\n",
       "      <td>turn on windshield wipers</td>\n",
       "      <td>4</td>\n",
       "    </tr>\n",
       "    <tr>\n",
       "      <th>861</th>\n",
       "      <td>Need the wipers on.</td>\n",
       "      <td>turn on windshield wipers</td>\n",
       "      <td>4</td>\n",
       "    </tr>\n",
       "    <tr>\n",
       "      <th>...</th>\n",
       "      <td>...</td>\n",
       "      <td>...</td>\n",
       "      <td>...</td>\n",
       "    </tr>\n",
       "    <tr>\n",
       "      <th>1047</th>\n",
       "      <td>Is there a cinema nearby?</td>\n",
       "      <td>no intent</td>\n",
       "      <td>0</td>\n",
       "    </tr>\n",
       "    <tr>\n",
       "      <th>323</th>\n",
       "      <td>Can you start the cool flow?</td>\n",
       "      <td>turn on the air conditioner</td>\n",
       "      <td>3</td>\n",
       "    </tr>\n",
       "    <tr>\n",
       "      <th>102</th>\n",
       "      <td>Get the driver's window down.</td>\n",
       "      <td>roll down the driver side window</td>\n",
       "      <td>2</td>\n",
       "    </tr>\n",
       "    <tr>\n",
       "      <th>1139</th>\n",
       "      <td>Where can I adopt a dog?</td>\n",
       "      <td>no intent</td>\n",
       "      <td>0</td>\n",
       "    </tr>\n",
       "    <tr>\n",
       "      <th>30</th>\n",
       "      <td>Please lower the driver's window.</td>\n",
       "      <td>roll down the driver side window</td>\n",
       "      <td>2</td>\n",
       "    </tr>\n",
       "  </tbody>\n",
       "</table>\n",
       "<p>800 rows × 3 columns</p>\n",
       "</div>"
      ],
      "text/plain": [
       "                                   Text                            Intent  \\\n",
       "431    Slide open the passenger window.        roll down passenger window   \n",
       "344                 Initiate cold mode.       turn on the air conditioner   \n",
       "393            Bring on the chill zone.       turn on the air conditioner   \n",
       "912               Turn on those wipers.         turn on windshield wipers   \n",
       "861                 Need the wipers on.         turn on windshield wipers   \n",
       "...                                 ...                               ...   \n",
       "1047          Is there a cinema nearby?                         no intent   \n",
       "323        Can you start the cool flow?       turn on the air conditioner   \n",
       "102       Get the driver's window down.  roll down the driver side window   \n",
       "1139           Where can I adopt a dog?                         no intent   \n",
       "30    Please lower the driver's window.  roll down the driver side window   \n",
       "\n",
       "      Encoded_Intent  \n",
       "431                1  \n",
       "344                3  \n",
       "393                3  \n",
       "912                4  \n",
       "861                4  \n",
       "...              ...  \n",
       "1047               0  \n",
       "323                3  \n",
       "102                2  \n",
       "1139               0  \n",
       "30                 2  \n",
       "\n",
       "[800 rows x 3 columns]"
      ]
     },
     "execution_count": 11,
     "metadata": {},
     "output_type": "execute_result"
    }
   ],
   "source": [
    "train_df"
   ]
  },
  {
   "cell_type": "code",
   "execution_count": 8,
   "id": "159ce357-f084-4e43-9bcd-e03017a5cf01",
   "metadata": {},
   "outputs": [],
   "source": [
    "tokenizer = BertTokenizer.from_pretrained('bert-base-uncased')\n",
    "\n",
    "def tokenize_function(examples):\n",
    "    return tokenizer(examples['Text'], padding='max_length', truncation=True, max_length=256)"
   ]
  },
  {
   "cell_type": "code",
   "execution_count": 12,
   "id": "03f83069-a0f8-4dbb-accd-b2b09b1344a5",
   "metadata": {},
   "outputs": [
    {
     "data": {
      "application/vnd.jupyter.widget-view+json": {
       "model_id": "36268b7f7c6b403bb0b8d958a3f6d1d1",
       "version_major": 2,
       "version_minor": 0
      },
      "text/plain": [
       "Map:   0%|          | 0/800 [00:00<?, ? examples/s]"
      ]
     },
     "metadata": {},
     "output_type": "display_data"
    },
    {
     "data": {
      "application/vnd.jupyter.widget-view+json": {
       "model_id": "52bd380b95c4443da365f60ec0a8c9d5",
       "version_major": 2,
       "version_minor": 0
      },
      "text/plain": [
       "Map:   0%|          | 0/200 [00:00<?, ? examples/s]"
      ]
     },
     "metadata": {},
     "output_type": "display_data"
    }
   ],
   "source": [
    "train_df_reset = train_df.reset_index(drop=True)\n",
    "val_df_reset = val_df.reset_index(drop=True)\n",
    "\n",
    "# Now create Dataset objects\n",
    "train_dataset = Dataset.from_pandas(train_df_reset)\n",
    "val_dataset = Dataset.from_pandas(val_df_reset)\n",
    "\n",
    "# Apply tokenization function to the datasets\n",
    "tokenized_train_dataset = train_dataset.map(tokenize_function, batched=True)\n",
    "tokenized_val_dataset = val_dataset.map(tokenize_function, batched=True)\n",
    "\n",
    "# Remove the original Text and Intent columns\n",
    "tokenized_train_dataset = tokenized_train_dataset.remove_columns(['Text', 'Intent'])\n",
    "tokenized_val_dataset = tokenized_val_dataset.remove_columns(['Text', 'Intent'])"
   ]
  },
  {
   "cell_type": "code",
   "execution_count": 13,
   "id": "f824299d-465d-400a-a69d-59a330a0f514",
   "metadata": {},
   "outputs": [
    {
     "data": {
      "text/plain": [
       "Dataset({\n",
       "    features: ['Text', 'Intent', 'Encoded_Intent'],\n",
       "    num_rows: 800\n",
       "})"
      ]
     },
     "execution_count": 13,
     "metadata": {},
     "output_type": "execute_result"
    }
   ],
   "source": [
    "train_dataset"
   ]
  },
  {
   "cell_type": "code",
   "execution_count": 14,
   "id": "28b3fd27-2d54-4ee9-8654-1a159623d5ed",
   "metadata": {},
   "outputs": [],
   "source": [
    "dataset_dict = DatasetDict(train=tokenized_train_dataset, test=tokenized_val_dataset)\n"
   ]
  },
  {
   "cell_type": "code",
   "execution_count": 15,
   "id": "01c443d0-7217-4dcb-ab3c-d834e6a73289",
   "metadata": {},
   "outputs": [
    {
     "data": {
      "text/plain": [
       "DatasetDict({\n",
       "    train: Dataset({\n",
       "        features: ['Encoded_Intent', 'input_ids', 'token_type_ids', 'attention_mask'],\n",
       "        num_rows: 800\n",
       "    })\n",
       "    test: Dataset({\n",
       "        features: ['Encoded_Intent', 'input_ids', 'token_type_ids', 'attention_mask'],\n",
       "        num_rows: 200\n",
       "    })\n",
       "})"
      ]
     },
     "execution_count": 15,
     "metadata": {},
     "output_type": "execute_result"
    }
   ],
   "source": [
    "dataset_dict"
   ]
  },
  {
   "cell_type": "code",
   "execution_count": null,
   "id": "d2f71abc-8e61-418d-98fa-766a60630e05",
   "metadata": {},
   "outputs": [],
   "source": []
  }
 ],
 "metadata": {
  "kernelspec": {
   "display_name": "Python 3 (ipykernel)",
   "language": "python",
   "name": "python3"
  },
  "language_info": {
   "codemirror_mode": {
    "name": "ipython",
    "version": 3
   },
   "file_extension": ".py",
   "mimetype": "text/x-python",
   "name": "python",
   "nbconvert_exporter": "python",
   "pygments_lexer": "ipython3",
   "version": "3.10.12"
  }
 },
 "nbformat": 4,
 "nbformat_minor": 5
}
